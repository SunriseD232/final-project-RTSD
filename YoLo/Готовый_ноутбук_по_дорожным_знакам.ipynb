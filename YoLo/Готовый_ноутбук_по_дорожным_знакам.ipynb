{
 "cells": [
  {
   "cell_type": "code",
   "execution_count": 1,
   "metadata": {
    "id": "SeQpxHiTwJSB"
   },
   "outputs": [],
   "source": [
    "import torch\n",
    "import numpy as np\n",
    "import cv2\n",
    "\n",
    "import os\n",
    "import random\n",
    "\n",
    "import pandas as pd\n",
    "import matplotlib.pyplot as plt\n",
    "import seaborn as sns\n",
    "plt.style.use(\"seaborn\")\n",
    "import datetime\n",
    "\n",
    "import tensorflow as tf\n",
    "from tensorflow.keras import models, layers, optimizers, callbacks, applications, backend, utils\n",
    "from tensorflow.keras.preprocessing import image\n",
    "\n",
    "from sklearn import preprocessing\n",
    "from sklearn import metrics\n",
    "\n",
    "from keras import backend as K\n",
    "from tensorflow.keras import regularizers"
   ]
  },
  {
   "cell_type": "code",
   "execution_count": 2,
   "metadata": {},
   "outputs": [
    {
     "name": "stdout",
     "output_type": "stream",
     "text": [
      "Requirement already satisfied: opencv-python in c:\\users\\sunrised\\anaconda3\\lib\\site-packages (4.6.0.66)\n",
      "Requirement already satisfied: numpy>=1.14.5 in c:\\users\\sunrised\\anaconda3\\lib\\site-packages (from opencv-python) (1.21.5)\n"
     ]
    }
   ],
   "source": [
    "!pip install opencv-python"
   ]
  },
  {
   "cell_type": "code",
   "execution_count": 3,
   "metadata": {
    "id": "-_IHWHsoWLZV"
   },
   "outputs": [],
   "source": [
    "import torch\n",
    "import matplotlib.pyplot as plt\n",
    "from PIL import Image\n",
    "import cv2\n",
    "import numpy as np\n",
    "from tensorflow.keras import models, layers, optimizers, callbacks, applications, backend, utils\n",
    "from tensorflow.keras import regularizers\n",
    "from tensorflow.keras.preprocessing import image\n",
    "from PIL import Image\n"
   ]
  },
  {
   "cell_type": "code",
   "execution_count": 4,
   "metadata": {
    "colab": {
     "base_uri": "https://localhost:8080/"
    },
    "id": "_oe2iR8RlwJp",
    "outputId": "d2dd4010-3c8b-4250-c63f-a289031d9bda"
   },
   "outputs": [],
   "source": [
    "#!git clone https://github.com/ultralytics/yolov5"
   ]
  },
  {
   "cell_type": "code",
   "execution_count": 5,
   "metadata": {
    "id": "ste7toqOw9aI"
   },
   "outputs": [],
   "source": [
    "#training custom data\n",
    "#!cd /content/drive/MyDrive/yolov5 && python train.py --img 250 --batch 16 --epochs 500 --data dataset.yml --weights yolov5s.pt\n"
   ]
  },
  {
   "cell_type": "code",
   "execution_count": 6,
   "metadata": {
    "colab": {
     "base_uri": "https://localhost:8080/"
    },
    "id": "-ccwCMKnTs-T",
    "outputId": "0a4dae29-c53a-4099-d7ae-e8161e9dde71"
   },
   "outputs": [
    {
     "name": "stderr",
     "output_type": "stream",
     "text": [
      "Downloading: \"https://github.com/ultralytics/yolov5/zipball/master\" to C:\\Users\\SunriseD/.cache\\torch\\hub\\master.zip\n",
      "YOLOv5  2022-12-29 Python-3.9.13 torch-1.13.1+cu117 CUDA:0 (NVIDIA GeForce RTX 3070, 8192MiB)\n",
      "\n",
      "Fusing layers... \n",
      "Model summary: 157 layers, 7053277 parameters, 0 gradients\n",
      "Adding AutoShape... \n"
     ]
    }
   ],
   "source": [
    "#loading custom model \n",
    "model = torch.hub.load('ultralytics/yolov5', 'custom', path='C:\\\\Users\\\\SunriseD\\\\Desktop\\\\project_work\\\\yolov5\\\\runs\\\\train\\\\exp6\\\\weights\\\\best.pt', force_reload=True)\n"
   ]
  },
  {
   "cell_type": "code",
   "execution_count": 7,
   "metadata": {
    "id": "NT7DT42E1QMm"
   },
   "outputs": [],
   "source": [
    "img = \"C:\\\\Users\\\\SunriseD\\\\Desktop\\\\project_work\\\\road_signs\\\\test_image\\\\Screenshot_2.png\""
   ]
  },
  {
   "cell_type": "code",
   "execution_count": 8,
   "metadata": {
    "colab": {
     "base_uri": "https://localhost:8080/"
    },
    "id": "SPJWG3Qy1j78",
    "outputId": "33e4c4e9-5032-4f98-9c66-e1fc00a37a61"
   },
   "outputs": [
    {
     "name": "stderr",
     "output_type": "stream",
     "text": [
      "image 1/1: 489x1849 10 road_signs\n",
      "Speed: 30.0ms pre-process, 623.0ms inference, 316.0ms NMS per image at shape (1, 3, 192, 640)\n"
     ]
    }
   ],
   "source": [
    "results = model(img)\n",
    "results.print()"
   ]
  },
  {
   "cell_type": "code",
   "execution_count": 9,
   "metadata": {
    "colab": {
     "base_uri": "https://localhost:8080/"
    },
    "id": "Wpc3vu9U1kAD",
    "outputId": "459157a7-7da1-4c14-b04c-5a3c2792f98f"
   },
   "outputs": [
    {
     "data": {
      "text/plain": [
       "[[36.1683349609375,\n",
       "  177.92453002929688,\n",
       "  95.51993560791016,\n",
       "  232.55332946777344,\n",
       "  0.9546245336532593,\n",
       "  15.0],\n",
       " [1434.2042236328125,\n",
       "  221.56784057617188,\n",
       "  1492.2333984375,\n",
       "  278.943359375,\n",
       "  0.9433034062385559,\n",
       "  15.0],\n",
       " [1429.899169921875,\n",
       "  95.48001861572266,\n",
       "  1503.830810546875,\n",
       "  160.18142700195312,\n",
       "  0.9382201433181763,\n",
       "  15.0],\n",
       " [1794.6014404296875,\n",
       "  237.46754455566406,\n",
       "  1818.7635498046875,\n",
       "  275.2139892578125,\n",
       "  0.8413788080215454,\n",
       "  15.0],\n",
       " [1028.193359375,\n",
       "  232.39669799804688,\n",
       "  1049.702880859375,\n",
       "  251.96791076660156,\n",
       "  0.7880516648292542,\n",
       "  15.0],\n",
       " [41.22435760498047,\n",
       "  83.25318145751953,\n",
       "  85.85733032226562,\n",
       "  123.8200454711914,\n",
       "  0.7409908175468445,\n",
       "  15.0],\n",
       " [1433.0439453125,\n",
       "  118.50006103515625,\n",
       "  1495.359375,\n",
       "  206.37071228027344,\n",
       "  0.3408893644809723,\n",
       "  15.0],\n",
       " [1435.5689697265625,\n",
       "  159.16378784179688,\n",
       "  1492.0570068359375,\n",
       "  215.34652709960938,\n",
       "  0.33467698097229004,\n",
       "  15.0],\n",
       " [40.666072845458984,\n",
       "  128.7461395263672,\n",
       "  92.67506408691406,\n",
       "  168.58689880371094,\n",
       "  0.3124237358570099,\n",
       "  15.0],\n",
       " [1521.095458984375,\n",
       "  127.98924255371094,\n",
       "  1544.570068359375,\n",
       "  158.8136444091797,\n",
       "  0.25828224420547485,\n",
       "  15.0]]"
      ]
     },
     "execution_count": 9,
     "metadata": {},
     "output_type": "execute_result"
    }
   ],
   "source": [
    "#getting bb\n",
    "results.xyxy[0].tolist() #where 1-4 pos - xy cor, 5 pos - accuracy, 6 pos - class"
   ]
  },
  {
   "cell_type": "code",
   "execution_count": 23,
   "metadata": {
    "colab": {
     "base_uri": "https://localhost:8080/",
     "height": 358
    },
    "id": "yu1mOGGZ7Z1D",
    "outputId": "db8f2158-e78a-48e0-aebe-96a9650382ca"
   },
   "outputs": [
    {
     "name": "stdout",
     "output_type": "stream",
     "text": [
      "36 177 95 232\n",
      "1434 221 1492 278\n",
      "1429 95 1503 160\n",
      "1794 237 1818 275\n",
      "1028 232 1049 251\n",
      "41 83 85 123\n",
      "1433 118 1495 206\n",
      "1435 159 1492 215\n",
      "40 128 92 168\n",
      "1521 127 1544 158\n"
     ]
    }
   ],
   "source": [
    "\n",
    "\n",
    "img = cv2.imread ( 'C:\\\\Users\\\\SunriseD\\\\Desktop\\\\project_work\\\\road_signs\\\\test_image\\\\Screenshot_2.png')\n",
    "for i in range (len(results.xyxy[0].tolist())):\n",
    "  x_min = int(results.xyxy[0].tolist()[i][0])\n",
    "  y_min = int(results.xyxy[0].tolist()[i][1])\n",
    "  w = int(results.xyxy[0].tolist()[i][2])\n",
    "  h = int(results.xyxy[0].tolist()[i][3])\n",
    "  print (x_min,y_min,w,h)\n",
    "  roi_img = img[y_min: h, x_min: w]\n",
    "  #cv2_imshow(roi_img)\n",
    "  cv2.imwrite(f\"C:/Users/SunriseD/Desktop/project_work/test img/data_for_datagen/Cropped_Image{i}.jpg\", roi_img)\n"
   ]
  },
  {
   "cell_type": "code",
   "execution_count": 14,
   "metadata": {
    "id": "bApHsMgkFh_-"
   },
   "outputs": [],
   "source": [
    "#Константы\n",
    "IMAGE_SHAPE = (128, 128)\n",
    "BATCH_SIZE = 100\n",
    "NUM_CLASSES = 50 #Число предсказуемых классов"
   ]
  },
  {
   "cell_type": "code",
   "execution_count": 15,
   "metadata": {
    "id": "kdkBJJdSFeeP"
   },
   "outputs": [],
   "source": [
    "def create_model(transfer_model):\n",
    "  model = models.Sequential([\n",
    "        transfer_model,\n",
    "        layers.Dense(512, activation='elu', kernel_regularizer=regularizers.L1L2(l2=0.001, l1=0.005)),\n",
    "        layers.BatchNormalization(),\n",
    "        layers.Dropout(0.5),\n",
    "        layers.Dense(256, activation='elu', kernel_regularizer=regularizers.L1L2(l2=0.001, l1=0.005)),\n",
    "        layers.BatchNormalization(),\n",
    "        layers.Dropout(0.5),\n",
    "        layers.Dense(NUM_CLASSES, activation='softmax', kernel_regularizer=regularizers.L1L2(l2=0.001, l1=0.005)) \n",
    "    ])\n",
    "  return model"
   ]
  },
  {
   "cell_type": "code",
   "execution_count": 16,
   "metadata": {
    "colab": {
     "base_uri": "https://localhost:8080/"
    },
    "id": "3IHZ49vTFh6H",
    "outputId": "b464c305-b4b1-4043-8ef8-984f5b3f62ee"
   },
   "outputs": [],
   "source": [
    "baseModel = applications.MobileNetV2(weights=\"imagenet\", include_top=False,\n",
    "input_shape=(IMAGE_SHAPE[0], IMAGE_SHAPE[1], 3), pooling='avg')"
   ]
  },
  {
   "cell_type": "code",
   "execution_count": 17,
   "metadata": {
    "id": "MimXJ1NqFh8f"
   },
   "outputs": [],
   "source": [
    "model = create_model(baseModel)"
   ]
  },
  {
   "cell_type": "code",
   "execution_count": 20,
   "metadata": {
    "id": "n6gTcWhPFzsf"
   },
   "outputs": [],
   "source": [
    "model.load_weights(\"C:/Users/SunriseD/Desktop/project_work/Model/best_model.h5\")"
   ]
  },
  {
   "cell_type": "code",
   "execution_count": 25,
   "metadata": {
    "colab": {
     "base_uri": "https://localhost:8080/"
    },
    "id": "4c6ccbURIkjO",
    "outputId": "cfae0f0e-5598-4e8f-db47-1e167738760f"
   },
   "outputs": [
    {
     "name": "stdout",
     "output_type": "stream",
     "text": [
      "Found 10 images belonging to 2 classes.\n"
     ]
    }
   ],
   "source": [
    "train_datagen = image.ImageDataGenerator()\n",
    "train_generator = train_datagen.flow_from_directory(\n",
    "    'C:/Users/SunriseD/Desktop/project_work/test img',\n",
    "    target_size=IMAGE_SHAPE)\n",
    "\n",
    "pred = model.predict_generator(train_generator)"
   ]
  },
  {
   "cell_type": "code",
   "execution_count": 26,
   "metadata": {
    "colab": {
     "base_uri": "https://localhost:8080/"
    },
    "id": "6oD2JPk9Qqhr",
    "outputId": "8b47cc5a-ddbf-4de0-96ee-5c9ab80f4359"
   },
   "outputs": [
    {
     "name": "stdout",
     "output_type": "stream",
     "text": [
      "5_19_1 - Пешеходный переход\n",
      "4_1_1 - Движение прямо\n",
      "2_1 - Главная дорога\n",
      "5_19_1 - Пешеходный переход\n",
      "2_1 - Главная дорога\n",
      "2_4 - Уступите дорогу\n",
      "5_19_1 - Пешеходный переход\n",
      "5_16 - Место остановки автобуса и (или) троллейбуса\n",
      "8_13 - Направление главной дороги\n",
      "5_19_1 - Пешеходный переход\n"
     ]
    }
   ],
   "source": [
    "#target = ['1_11','1_11_1','1_16','1_17','1_2','1_20_2','1_22','1_23','1_25','1_8','2_1','2_2','2_3','2_3_2',\n",
    "# '2_3_3','2_4','2_5','3_1','3_13','3_18','3_20','3_21','3_24','3_27','3_28','3_4_1','4_1_1','4_1_2','4_1_4','4_2_1','4_2_2',\n",
    "# '4_2_3','5_14','5_15_1','5_15_2','5_15_2_2','5_15_3','5_15_5','5_15_7','5_16','5_19_1','5_20','5_5','5_6','6_16','6_4','6_6','7_3','7_5','8_13']\n",
    "\n",
    "\n",
    "target = ['1_11 - Опасный поворот',\n",
    "          '1_11_1 - Опасный поворот',\n",
    "          '1_16 - Неровная дорога',\n",
    "          '1_17 - Искусственная неровность',\n",
    "          '1_2 - Железнодорожный переезд без шлагбаума',\n",
    "          '1_20_2 - Сужение дороги',\n",
    "          '1_22 - Пешеходный переход',\n",
    "          '1_23 - Дети',\n",
    "          '1_25 - Дорожные работы',\n",
    "          '1_8 - Светофорное регулирование',\n",
    "          '2_1 - Главная дорога',\n",
    "          '2_2 - Конец главной дороги',\n",
    "          '2_3 - Пересечение со второстепенной дорогой',\n",
    "          '2_3_2 - Примыкание второстепенной дороги',\n",
    "          '2_3_3 - Примыкание второстепенной дороги',\n",
    "          '2_4 - Уступите дорогу',\n",
    "          '2_5 - Движение без остановки запрещено',\n",
    "          '3_1 - Въезд запрещен',\n",
    "          '3_13 - Ограничение высоты',\n",
    "          '3_18 - Поворот запрещен',\n",
    "          '3_20 - Обгон запрещен',\n",
    "          '3_21 - Конец зоны запрещения обгона', \n",
    "          '3_24 - Ограничение максимальной скорости',\n",
    "          '3_27 - Остановка запрещена',\n",
    "          '3_28 - Стоянка запрещена',\n",
    "          '3_4_1 - Движение грузовых автомобилей запрещено',\n",
    "\n",
    "          '4_1_1 - Движение прямо',\n",
    "          '4_1_2 - Движение направо(налево) ',\n",
    "          '4_1_4 - Движение прямо или направо(налево)',\n",
    "          '4_2_1 - Объезд препятствия',\n",
    "          '4_2_2 - Объезд препятствия слева',\n",
    "          '4_2_3 - Объезд препятствия справа или слева',\n",
    "          '5_14 - Полоса для маршрутных транспортных средств',\n",
    "          '5_15_1 - Направления движения по 2-м полосам',\n",
    "          '5_15_2 - Направления движения по полосам',\n",
    "          '5_15_2_2 - Направления движения по полосам', \n",
    "          '5_15_3 - Начало полосы',\n",
    "          '5_15_5 - Конец полосы',\n",
    "          '5_15_7 - Направление движения по полосам',\n",
    "          '5_16 - Место остановки автобуса и (или) троллейбуса',\n",
    "          '5_19_1 - Пешеходный переход',\n",
    "          '5_20 - Искусственная неровность',\n",
    "          '5_5 - Дорога с односторонним движением',\n",
    "          '5_6 - Конец дороги с односторонним движением',\n",
    "          '6_16 - Стоп-линия',\n",
    "          '6_4 - Место стоянки',\n",
    "          '6_6 - Подземный пешеходный переход',\n",
    "          '7_3 - Автозаправочная станция',\n",
    "          '7_5 - Мойка автомобилей',\n",
    "          '8_13 - Направление главной дороги'\n",
    "          ]\n",
    "\n",
    "predict = np.argmax(pred, axis =1)\n",
    "for i in predict:\n",
    "  print (target[i])"
   ]
  }
 ],
 "metadata": {
  "colab": {
   "provenance": []
  },
  "gpuClass": "standard",
  "kernelspec": {
   "display_name": "Python 3 (ipykernel)",
   "language": "python",
   "name": "python3"
  },
  "language_info": {
   "codemirror_mode": {
    "name": "ipython",
    "version": 3
   },
   "file_extension": ".py",
   "mimetype": "text/x-python",
   "name": "python",
   "nbconvert_exporter": "python",
   "pygments_lexer": "ipython3",
   "version": "3.9.13"
  }
 },
 "nbformat": 4,
 "nbformat_minor": 1
}
